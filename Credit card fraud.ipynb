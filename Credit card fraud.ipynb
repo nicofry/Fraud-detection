{
 "cells": [
  {
   "cell_type": "code",
   "execution_count": 53,
   "id": "868bfe8a",
   "metadata": {},
   "outputs": [],
   "source": [
    "# Study Libs\n",
    "import numpy as np\n",
    "import pandas as pd\n",
    "import matplotlib.pyplot as plt\n",
    "import seaborn as sns\n",
    "from sklearn.metrics import roc_curve, auc,  make_scorer, recall_score, roc_auc_score\n",
    "\n",
    "# Data preparation Libs\n",
    "from sklearn.preprocessing import RobustScaler\n",
    "from sklearn.model_selection import TimeSeriesSplit, cross_val_score\n",
    "import optuna\n",
    "from sklearn.pipeline import Pipeline\n",
    "\n",
    "# ML Libs\n",
    "from sklearn.linear_model import LogisticRegression\n",
    "from sklearn.svm import SVC\n",
    "from sklearn.neighbors import KNeighborsClassifier\n",
    "from sklearn.ensemble import RandomForestClassifier\n",
    "from xgboost import XGBClassifier"
   ]
  },
  {
   "cell_type": "markdown",
   "id": "c45841fe",
   "metadata": {},
   "source": [
    "## Discovery"
   ]
  },
  {
   "cell_type": "code",
   "execution_count": 19,
   "id": "ba2ee839",
   "metadata": {},
   "outputs": [
    {
     "data": {
      "text/html": [
       "<div>\n",
       "<style scoped>\n",
       "    .dataframe tbody tr th:only-of-type {\n",
       "        vertical-align: middle;\n",
       "    }\n",
       "\n",
       "    .dataframe tbody tr th {\n",
       "        vertical-align: top;\n",
       "    }\n",
       "\n",
       "    .dataframe thead th {\n",
       "        text-align: right;\n",
       "    }\n",
       "</style>\n",
       "<table border=\"1\" class=\"dataframe\">\n",
       "  <thead>\n",
       "    <tr style=\"text-align: right;\">\n",
       "      <th></th>\n",
       "      <th>Time</th>\n",
       "      <th>V1</th>\n",
       "      <th>V2</th>\n",
       "      <th>V3</th>\n",
       "      <th>V4</th>\n",
       "      <th>V5</th>\n",
       "      <th>V6</th>\n",
       "      <th>V7</th>\n",
       "      <th>V8</th>\n",
       "      <th>V9</th>\n",
       "      <th>...</th>\n",
       "      <th>V21</th>\n",
       "      <th>V22</th>\n",
       "      <th>V23</th>\n",
       "      <th>V24</th>\n",
       "      <th>V25</th>\n",
       "      <th>V26</th>\n",
       "      <th>V27</th>\n",
       "      <th>V28</th>\n",
       "      <th>Amount</th>\n",
       "      <th>Class</th>\n",
       "    </tr>\n",
       "  </thead>\n",
       "  <tbody>\n",
       "    <tr>\n",
       "      <th>0</th>\n",
       "      <td>0.0</td>\n",
       "      <td>-1.359807</td>\n",
       "      <td>-0.072781</td>\n",
       "      <td>2.536347</td>\n",
       "      <td>1.378155</td>\n",
       "      <td>-0.338321</td>\n",
       "      <td>0.462388</td>\n",
       "      <td>0.239599</td>\n",
       "      <td>0.098698</td>\n",
       "      <td>0.363787</td>\n",
       "      <td>...</td>\n",
       "      <td>-0.018307</td>\n",
       "      <td>0.277838</td>\n",
       "      <td>-0.110474</td>\n",
       "      <td>0.066928</td>\n",
       "      <td>0.128539</td>\n",
       "      <td>-0.189115</td>\n",
       "      <td>0.133558</td>\n",
       "      <td>-0.021053</td>\n",
       "      <td>149.62</td>\n",
       "      <td>0</td>\n",
       "    </tr>\n",
       "    <tr>\n",
       "      <th>1</th>\n",
       "      <td>0.0</td>\n",
       "      <td>1.191857</td>\n",
       "      <td>0.266151</td>\n",
       "      <td>0.166480</td>\n",
       "      <td>0.448154</td>\n",
       "      <td>0.060018</td>\n",
       "      <td>-0.082361</td>\n",
       "      <td>-0.078803</td>\n",
       "      <td>0.085102</td>\n",
       "      <td>-0.255425</td>\n",
       "      <td>...</td>\n",
       "      <td>-0.225775</td>\n",
       "      <td>-0.638672</td>\n",
       "      <td>0.101288</td>\n",
       "      <td>-0.339846</td>\n",
       "      <td>0.167170</td>\n",
       "      <td>0.125895</td>\n",
       "      <td>-0.008983</td>\n",
       "      <td>0.014724</td>\n",
       "      <td>2.69</td>\n",
       "      <td>0</td>\n",
       "    </tr>\n",
       "    <tr>\n",
       "      <th>2</th>\n",
       "      <td>1.0</td>\n",
       "      <td>-1.358354</td>\n",
       "      <td>-1.340163</td>\n",
       "      <td>1.773209</td>\n",
       "      <td>0.379780</td>\n",
       "      <td>-0.503198</td>\n",
       "      <td>1.800499</td>\n",
       "      <td>0.791461</td>\n",
       "      <td>0.247676</td>\n",
       "      <td>-1.514654</td>\n",
       "      <td>...</td>\n",
       "      <td>0.247998</td>\n",
       "      <td>0.771679</td>\n",
       "      <td>0.909412</td>\n",
       "      <td>-0.689281</td>\n",
       "      <td>-0.327642</td>\n",
       "      <td>-0.139097</td>\n",
       "      <td>-0.055353</td>\n",
       "      <td>-0.059752</td>\n",
       "      <td>378.66</td>\n",
       "      <td>0</td>\n",
       "    </tr>\n",
       "    <tr>\n",
       "      <th>3</th>\n",
       "      <td>1.0</td>\n",
       "      <td>-0.966272</td>\n",
       "      <td>-0.185226</td>\n",
       "      <td>1.792993</td>\n",
       "      <td>-0.863291</td>\n",
       "      <td>-0.010309</td>\n",
       "      <td>1.247203</td>\n",
       "      <td>0.237609</td>\n",
       "      <td>0.377436</td>\n",
       "      <td>-1.387024</td>\n",
       "      <td>...</td>\n",
       "      <td>-0.108300</td>\n",
       "      <td>0.005274</td>\n",
       "      <td>-0.190321</td>\n",
       "      <td>-1.175575</td>\n",
       "      <td>0.647376</td>\n",
       "      <td>-0.221929</td>\n",
       "      <td>0.062723</td>\n",
       "      <td>0.061458</td>\n",
       "      <td>123.50</td>\n",
       "      <td>0</td>\n",
       "    </tr>\n",
       "    <tr>\n",
       "      <th>4</th>\n",
       "      <td>2.0</td>\n",
       "      <td>-1.158233</td>\n",
       "      <td>0.877737</td>\n",
       "      <td>1.548718</td>\n",
       "      <td>0.403034</td>\n",
       "      <td>-0.407193</td>\n",
       "      <td>0.095921</td>\n",
       "      <td>0.592941</td>\n",
       "      <td>-0.270533</td>\n",
       "      <td>0.817739</td>\n",
       "      <td>...</td>\n",
       "      <td>-0.009431</td>\n",
       "      <td>0.798278</td>\n",
       "      <td>-0.137458</td>\n",
       "      <td>0.141267</td>\n",
       "      <td>-0.206010</td>\n",
       "      <td>0.502292</td>\n",
       "      <td>0.219422</td>\n",
       "      <td>0.215153</td>\n",
       "      <td>69.99</td>\n",
       "      <td>0</td>\n",
       "    </tr>\n",
       "  </tbody>\n",
       "</table>\n",
       "<p>5 rows × 31 columns</p>\n",
       "</div>"
      ],
      "text/plain": [
       "   Time        V1        V2        V3        V4        V5        V6        V7  \\\n",
       "0   0.0 -1.359807 -0.072781  2.536347  1.378155 -0.338321  0.462388  0.239599   \n",
       "1   0.0  1.191857  0.266151  0.166480  0.448154  0.060018 -0.082361 -0.078803   \n",
       "2   1.0 -1.358354 -1.340163  1.773209  0.379780 -0.503198  1.800499  0.791461   \n",
       "3   1.0 -0.966272 -0.185226  1.792993 -0.863291 -0.010309  1.247203  0.237609   \n",
       "4   2.0 -1.158233  0.877737  1.548718  0.403034 -0.407193  0.095921  0.592941   \n",
       "\n",
       "         V8        V9  ...       V21       V22       V23       V24       V25  \\\n",
       "0  0.098698  0.363787  ... -0.018307  0.277838 -0.110474  0.066928  0.128539   \n",
       "1  0.085102 -0.255425  ... -0.225775 -0.638672  0.101288 -0.339846  0.167170   \n",
       "2  0.247676 -1.514654  ...  0.247998  0.771679  0.909412 -0.689281 -0.327642   \n",
       "3  0.377436 -1.387024  ... -0.108300  0.005274 -0.190321 -1.175575  0.647376   \n",
       "4 -0.270533  0.817739  ... -0.009431  0.798278 -0.137458  0.141267 -0.206010   \n",
       "\n",
       "        V26       V27       V28  Amount  Class  \n",
       "0 -0.189115  0.133558 -0.021053  149.62      0  \n",
       "1  0.125895 -0.008983  0.014724    2.69      0  \n",
       "2 -0.139097 -0.055353 -0.059752  378.66      0  \n",
       "3 -0.221929  0.062723  0.061458  123.50      0  \n",
       "4  0.502292  0.219422  0.215153   69.99      0  \n",
       "\n",
       "[5 rows x 31 columns]"
      ]
     },
     "execution_count": 19,
     "metadata": {},
     "output_type": "execute_result"
    }
   ],
   "source": [
    "df = pd.read_csv('creditcard.csv')\n",
    "df.head()"
   ]
  },
  {
   "cell_type": "code",
   "execution_count": 20,
   "id": "6beecc67",
   "metadata": {},
   "outputs": [
    {
     "data": {
      "text/plain": [
       "Index(['Time', 'V1', 'V2', 'V3', 'V4', 'V5', 'V6', 'V7', 'V8', 'V9', 'V10',\n",
       "       'V11', 'V12', 'V13', 'V14', 'V15', 'V16', 'V17', 'V18', 'V19', 'V20',\n",
       "       'V21', 'V22', 'V23', 'V24', 'V25', 'V26', 'V27', 'V28', 'Amount',\n",
       "       'Class'],\n",
       "      dtype='object')"
      ]
     },
     "execution_count": 20,
     "metadata": {},
     "output_type": "execute_result"
    }
   ],
   "source": [
    "df.columns"
   ]
  },
  {
   "cell_type": "code",
   "execution_count": 21,
   "id": "0ca3ca4e",
   "metadata": {},
   "outputs": [
    {
     "name": "stdout",
     "output_type": "stream",
     "text": [
      "<class 'pandas.core.frame.DataFrame'>\n",
      "RangeIndex: 284807 entries, 0 to 284806\n",
      "Data columns (total 31 columns):\n",
      " #   Column  Non-Null Count   Dtype  \n",
      "---  ------  --------------   -----  \n",
      " 0   Time    284807 non-null  float64\n",
      " 1   V1      284807 non-null  float64\n",
      " 2   V2      284807 non-null  float64\n",
      " 3   V3      284807 non-null  float64\n",
      " 4   V4      284807 non-null  float64\n",
      " 5   V5      284807 non-null  float64\n",
      " 6   V6      284807 non-null  float64\n",
      " 7   V7      284807 non-null  float64\n",
      " 8   V8      284807 non-null  float64\n",
      " 9   V9      284807 non-null  float64\n",
      " 10  V10     284807 non-null  float64\n",
      " 11  V11     284807 non-null  float64\n",
      " 12  V12     284807 non-null  float64\n",
      " 13  V13     284807 non-null  float64\n",
      " 14  V14     284807 non-null  float64\n",
      " 15  V15     284807 non-null  float64\n",
      " 16  V16     284807 non-null  float64\n",
      " 17  V17     284807 non-null  float64\n",
      " 18  V18     284807 non-null  float64\n",
      " 19  V19     284807 non-null  float64\n",
      " 20  V20     284807 non-null  float64\n",
      " 21  V21     284807 non-null  float64\n",
      " 22  V22     284807 non-null  float64\n",
      " 23  V23     284807 non-null  float64\n",
      " 24  V24     284807 non-null  float64\n",
      " 25  V25     284807 non-null  float64\n",
      " 26  V26     284807 non-null  float64\n",
      " 27  V27     284807 non-null  float64\n",
      " 28  V28     284807 non-null  float64\n",
      " 29  Amount  284807 non-null  float64\n",
      " 30  Class   284807 non-null  int64  \n",
      "dtypes: float64(30), int64(1)\n",
      "memory usage: 67.4 MB\n"
     ]
    }
   ],
   "source": [
    "df.info()"
   ]
  },
  {
   "cell_type": "code",
   "execution_count": 22,
   "id": "05f2dfe8",
   "metadata": {},
   "outputs": [
    {
     "data": {
      "text/plain": [
       "np.int64(1081)"
      ]
     },
     "execution_count": 22,
     "metadata": {},
     "output_type": "execute_result"
    }
   ],
   "source": [
    "df.duplicated().sum()"
   ]
  },
  {
   "cell_type": "markdown",
   "id": "63364882",
   "metadata": {},
   "source": [
    "We'll drop the duplicate, same amount, same caracteristics, same time... yeah..."
   ]
  },
  {
   "cell_type": "code",
   "execution_count": 23,
   "id": "f84165a0",
   "metadata": {},
   "outputs": [],
   "source": [
    "df.drop_duplicates(inplace=True)"
   ]
  },
  {
   "cell_type": "code",
   "execution_count": 24,
   "id": "a18a40cc",
   "metadata": {},
   "outputs": [
    {
     "data": {
      "text/plain": [
       "Time      0\n",
       "V1        0\n",
       "V2        0\n",
       "V3        0\n",
       "V4        0\n",
       "V5        0\n",
       "V6        0\n",
       "V7        0\n",
       "V8        0\n",
       "V9        0\n",
       "V10       0\n",
       "V11       0\n",
       "V12       0\n",
       "V13       0\n",
       "V14       0\n",
       "V15       0\n",
       "V16       0\n",
       "V17       0\n",
       "V18       0\n",
       "V19       0\n",
       "V20       0\n",
       "V21       0\n",
       "V22       0\n",
       "V23       0\n",
       "V24       0\n",
       "V25       0\n",
       "V26       0\n",
       "V27       0\n",
       "V28       0\n",
       "Amount    0\n",
       "Class     0\n",
       "dtype: int64"
      ]
     },
     "execution_count": 24,
     "metadata": {},
     "output_type": "execute_result"
    }
   ],
   "source": [
    "df.isna().sum()"
   ]
  },
  {
   "cell_type": "code",
   "execution_count": 25,
   "id": "ae62217e",
   "metadata": {},
   "outputs": [
    {
     "name": "stdout",
     "output_type": "stream",
     "text": [
      "Frauds 0.17 % of the dataset\n",
      "No Frauds 99.83 % of the dataset\n"
     ]
    }
   ],
   "source": [
    "print('Frauds', round(len(df[df['Class'] == 1])/len(df) * 100,2), '% of the dataset')\n",
    "print('No Frauds', round(len(df[df['Class'] == 0])/len(df) * 100,2), '% of the dataset')"
   ]
  },
  {
   "cell_type": "markdown",
   "id": "a1125612",
   "metadata": {},
   "source": [
    "**Information:** Wow We have a huge disproportion here, we'll have to consider it during our ML phase."
   ]
  },
  {
   "cell_type": "markdown",
   "id": "b8f6701a",
   "metadata": {},
   "source": [
    "## Exploration"
   ]
  },
  {
   "cell_type": "code",
   "execution_count": 26,
   "id": "f981ff78",
   "metadata": {},
   "outputs": [
    {
     "data": {
      "image/png": "[encoded data removed]",
      "text/plain": [
       "<Figure size 1500x500 with 2 Axes>"
      ]
     },
     "metadata": {},
     "output_type": "display_data"
    }
   ],
   "source": [
    "# Let's study the time!\n",
    "# Time distribution:\n",
    "\n",
    "plt.figure(figsize=(15,5))\n",
    "\n",
    "plt.subplot(1,2,1)\n",
    "sns.histplot(df['Time'], color='b', kde=True)\n",
    "plt.title('Distribution of Transaction Time', fontsize=14)\n",
    "plt.xlim(min(df['Time']),max(df['Time']))\n",
    "\n",
    "# Fraud distribution over time\n",
    "plt.subplot(1,2,2)\n",
    "sns.histplot(df[df['Class']==1]['Time'].values, color='r', kde=True)\n",
    "plt.title('Distribution of Fraud Time', fontsize=14)\n",
    "plt.xlim(min(df['Time']),max(df['Time']))\n",
    "\n",
    "plt.show()"
   ]
  },
  {
   "cell_type": "code",
   "execution_count": 27,
   "id": "94fe76ef",
   "metadata": {},
   "outputs": [
    {
     "data": {
      "image/png": "[encoded data removed]",
      "text/plain": [
       "<Figure size 1000x500 with 1 Axes>"
      ]
     },
     "metadata": {},
     "output_type": "display_data"
    }
   ],
   "source": [
    "# We'll try to have the proportion of frauds by slices of time.\n",
    "\n",
    "# We create bins of 10000s\n",
    "bin_width = 10000\n",
    "df['Time_bin'] = (df['Time'] // bin_width) * bin_width\n",
    "\n",
    "# Now we calculate the percentage of frauds by time bin\n",
    "fraude_ratio = df.groupby('Time_bin')['Class'].agg(['count', 'sum'])\n",
    "fraude_ratio['fraude_ratio'] = (fraude_ratio['sum'] / fraude_ratio['count'])*100\n",
    "\n",
    "# Let's plot!\n",
    "plt.figure(figsize=(10,5))\n",
    "sns.lineplot(x=fraude_ratio.index, y=fraude_ratio['fraude_ratio'], color='red')\n",
    "plt.title('Percentage of frauds over time', fontsize=14)\n",
    "plt.xlabel('Time')\n",
    "plt.ylabel('Fraud percentage')\n",
    "plt.grid(True)\n",
    "plt.show()"
   ]
  },
  {
   "cell_type": "markdown",
   "id": "2b811af4",
   "metadata": {},
   "source": [
    "**Information:** Okay! So the proportion seems to be more important at times where there is fewer transactions. It was kind of predictable by looking at the thin difference of fraud count in the previous graph but heh, now we know!"
   ]
  },
  {
   "cell_type": "code",
   "execution_count": 28,
   "id": "c611a815",
   "metadata": {},
   "outputs": [
    {
     "name": "stdout",
     "output_type": "stream",
     "text": [
      "Amount infos\n",
      "count    283726.000000\n",
      "mean         88.472687\n",
      "std         250.399437\n",
      "min           0.000000\n",
      "25%           5.600000\n",
      "50%          22.000000\n",
      "75%          77.510000\n",
      "max       25691.160000\n",
      "Name: Amount, dtype: float64\n",
      "Amount infos on Fraud transactions\n",
      "count     473.000000\n",
      "mean      123.871860\n",
      "std       260.211041\n",
      "min         0.000000\n",
      "25%         1.000000\n",
      "50%         9.820000\n",
      "75%       105.890000\n",
      "max      2125.870000\n",
      "Name: Amount, dtype: float64\n"
     ]
    },
    {
     "data": {
      "image/png": "[encoded data removed]",
      "text/plain": [
       "<Figure size 1500x500 with 1 Axes>"
      ]
     },
     "metadata": {},
     "output_type": "display_data"
    }
   ],
   "source": [
    "# Let's talk about amounts now!\n",
    "print('Amount infos')\n",
    "print(df['Amount'].describe())\n",
    "print('Amount infos on Fraud transactions')\n",
    "print(df[df['Class']==1]['Amount'].describe())\n",
    "\n",
    "plt.figure(figsize=(15,5))\n",
    "sns.boxplot(data = df, x='Class', y='Amount')\n",
    "# plt.ylim(-100, max(df[df['Class']==1]['Amount'])+200)\n",
    "plt.show()"
   ]
  },
  {
   "cell_type": "markdown",
   "id": "d354ed00",
   "metadata": {},
   "source": [
    "**Information:** Ok on global the mean and median of transactions are quite low. The STD is quite similar between Fraud and not Fraud. The mean and median is higher in the Fraud section however. A bit informative but not too much here..."
   ]
  },
  {
   "cell_type": "code",
   "execution_count": 29,
   "id": "33b361dc",
   "metadata": {},
   "outputs": [
    {
     "data": {
      "image/png": "[encoded data removed]",
      "text/plain": [
       "<Figure size 1000x500 with 1 Axes>"
      ]
     },
     "metadata": {},
     "output_type": "display_data"
    }
   ],
   "source": [
    "# We'll try to have the proportion of frauds by slices of time.\n",
    "\n",
    "# We create bins of 10000s\n",
    "bin_width = 10000\n",
    "df['Time_bin'] = (df['Time'] // bin_width) * bin_width\n",
    "\n",
    "# Now we calculate the percentage of frauds by time bin\n",
    "fraud_amount = df[df['Class'] ==1].groupby('Time_bin')['Amount'].agg(['mean'])\n",
    "# fraude_amount['fraude_amount'] = (fraude_ratio['sum'] / fraude_ratio['count'])*100\n",
    "\n",
    "# Let's plot!\n",
    "plt.figure(figsize=(10,5))\n",
    "sns.lineplot(x=fraud_amount.index, y=fraud_amount['mean'], color='red')\n",
    "plt.title('Average fraud amount over time', fontsize=14)\n",
    "plt.xlabel('Time')\n",
    "plt.ylabel('Average amount')\n",
    "plt.grid(True)\n",
    "plt.show()"
   ]
  },
  {
   "cell_type": "markdown",
   "id": "40a87936",
   "metadata": {},
   "source": [
    "## Features exploration"
   ]
  },
  {
   "cell_type": "markdown",
   "id": "e4995619",
   "metadata": {},
   "source": [
    "**Let's talk about features!**\n",
    "\n",
    "Now we'll talk about feature importance. We'll try to understand which feature has an influence on the target.\n",
    "To do that we'll have to change the propotion to avoid the noise of the vast majority of non fraud.\n",
    "We'll have to SPLIT!\n",
    "Why? We want something robust, precise, so we'll make our study on a train set, \n",
    "leaving our test set out to have a maximum of reality coming into our model during the final prediction.\n",
    "\n",
    "*BUT*\n",
    "\n",
    "We have to do it properly. We have time stamps so if we shuffle and stratify we'll creat time bias by giving our model information from the future for predicting transactions in the past. We don't want that.\n",
    "We'll split manually, choosing the \"Time\" section to only the 80% past and 20% future as train/test.\n",
    "We'll have to check the proportion however, if we don't have enough frauds in the test set won't be able to measure the effectiveness of our model."
   ]
  },
  {
   "cell_type": "code",
   "execution_count": 30,
   "id": "1e4de130",
   "metadata": {},
   "outputs": [],
   "source": [
    "df_sorted = df.sort_values(by=\"Time\", ascending = True)\n",
    "split_index = int(len(df_sorted)*0.8)\n",
    "train_df = df_sorted[:split_index]\n",
    "test_df = df_sorted[split_index:]"
   ]
  },
  {
   "cell_type": "code",
   "execution_count": 46,
   "id": "d0ada26c",
   "metadata": {},
   "outputs": [
    {
     "name": "stdout",
     "output_type": "stream",
     "text": [
      "In train set we have:\n",
      "Frauds 0.18 % of the dataset\n",
      "No Frauds 99.82 % of the dataset\n",
      "In test set we have:\n",
      "Frauds 0.13 % of the dataset\n",
      "No Frauds 99.87 % of the dataset\n"
     ]
    }
   ],
   "source": [
    "X_original_train = train_df.drop(columns=['Class', 'Time_bin'])\n",
    "y_original_train = train_df['Class']\n",
    "print('In train set we have:')\n",
    "print('Frauds', round(len(y_original_train[y_original_train == 1])/len(y_original_train) * 100,2), '% of the dataset')\n",
    "print('No Frauds', round(len(y_original_train[y_original_train == 0])/len(y_original_train) * 100,2), '% of the dataset')\n",
    "\n",
    "\n",
    "X_original_test = test_df.drop(columns=['Class', 'Time_bin'])\n",
    "y_original_test = test_df['Class']\n",
    "print('In test set we have:')\n",
    "print('Frauds', round(len(y_original_test[y_original_test == 1])/len(y_original_test) * 100,2), '% of the dataset')\n",
    "print('No Frauds', round(len(y_original_test[y_original_test == 0])/len(y_original_test) * 100,2), '% of the dataset')"
   ]
  },
  {
   "cell_type": "markdown",
   "id": "a2f7f12e",
   "metadata": {},
   "source": [
    "Ok the proportions are decent enough to work with!"
   ]
  },
  {
   "cell_type": "code",
   "execution_count": 32,
   "id": "5082174b",
   "metadata": {},
   "outputs": [
    {
     "data": {
      "text/html": [
       "<div>\n",
       "<style scoped>\n",
       "    .dataframe tbody tr th:only-of-type {\n",
       "        vertical-align: middle;\n",
       "    }\n",
       "\n",
       "    .dataframe tbody tr th {\n",
       "        vertical-align: top;\n",
       "    }\n",
       "\n",
       "    .dataframe thead th {\n",
       "        text-align: right;\n",
       "    }\n",
       "</style>\n",
       "<table border=\"1\" class=\"dataframe\">\n",
       "  <thead>\n",
       "    <tr style=\"text-align: right;\">\n",
       "      <th></th>\n",
       "      <th>V1</th>\n",
       "      <th>V2</th>\n",
       "      <th>V3</th>\n",
       "      <th>V4</th>\n",
       "      <th>V5</th>\n",
       "      <th>V6</th>\n",
       "      <th>V7</th>\n",
       "      <th>V8</th>\n",
       "      <th>V9</th>\n",
       "      <th>V10</th>\n",
       "      <th>...</th>\n",
       "      <th>V21</th>\n",
       "      <th>V22</th>\n",
       "      <th>V23</th>\n",
       "      <th>V24</th>\n",
       "      <th>V25</th>\n",
       "      <th>V26</th>\n",
       "      <th>V27</th>\n",
       "      <th>V28</th>\n",
       "      <th>scaled_amount</th>\n",
       "      <th>scaled_time</th>\n",
       "    </tr>\n",
       "  </thead>\n",
       "  <tbody>\n",
       "    <tr>\n",
       "      <th>227816</th>\n",
       "      <td>2.111468</td>\n",
       "      <td>-0.607619</td>\n",
       "      <td>-0.972739</td>\n",
       "      <td>0.010592</td>\n",
       "      <td>-0.782027</td>\n",
       "      <td>-1.225196</td>\n",
       "      <td>-0.200564</td>\n",
       "      <td>-0.407590</td>\n",
       "      <td>-0.162631</td>\n",
       "      <td>0.646272</td>\n",
       "      <td>...</td>\n",
       "      <td>-0.162889</td>\n",
       "      <td>0.373515</td>\n",
       "      <td>0.075393</td>\n",
       "      <td>0.496001</td>\n",
       "      <td>0.245824</td>\n",
       "      <td>-0.085769</td>\n",
       "      <td>0.022953</td>\n",
       "      <td>-0.049552</td>\n",
       "      <td>-0.162027</td>\n",
       "      <td>0.989954</td>\n",
       "    </tr>\n",
       "    <tr>\n",
       "      <th>227818</th>\n",
       "      <td>2.045329</td>\n",
       "      <td>-0.127557</td>\n",
       "      <td>-1.084864</td>\n",
       "      <td>0.432121</td>\n",
       "      <td>-0.219836</td>\n",
       "      <td>-1.233060</td>\n",
       "      <td>0.147543</td>\n",
       "      <td>-0.297332</td>\n",
       "      <td>0.647602</td>\n",
       "      <td>0.090351</td>\n",
       "      <td>...</td>\n",
       "      <td>-0.291890</td>\n",
       "      <td>-0.759998</td>\n",
       "      <td>0.342628</td>\n",
       "      <td>0.027266</td>\n",
       "      <td>-0.326637</td>\n",
       "      <td>0.196891</td>\n",
       "      <td>-0.076917</td>\n",
       "      <td>-0.059947</td>\n",
       "      <td>-0.182432</td>\n",
       "      <td>0.989954</td>\n",
       "    </tr>\n",
       "    <tr>\n",
       "      <th>227819</th>\n",
       "      <td>-0.861465</td>\n",
       "      <td>-0.149128</td>\n",
       "      <td>1.523218</td>\n",
       "      <td>-1.598932</td>\n",
       "      <td>-1.904715</td>\n",
       "      <td>0.400161</td>\n",
       "      <td>1.334304</td>\n",
       "      <td>-0.341400</td>\n",
       "      <td>-1.277563</td>\n",
       "      <td>-0.270898</td>\n",
       "      <td>...</td>\n",
       "      <td>0.402892</td>\n",
       "      <td>1.210480</td>\n",
       "      <td>-0.211676</td>\n",
       "      <td>0.063405</td>\n",
       "      <td>0.635125</td>\n",
       "      <td>0.132667</td>\n",
       "      <td>0.068426</td>\n",
       "      <td>-0.022504</td>\n",
       "      <td>4.250135</td>\n",
       "      <td>0.989968</td>\n",
       "    </tr>\n",
       "  </tbody>\n",
       "</table>\n",
       "<p>3 rows × 30 columns</p>\n",
       "</div>"
      ],
      "text/plain": [
       "              V1        V2        V3        V4        V5        V6        V7  \\\n",
       "227816  2.111468 -0.607619 -0.972739  0.010592 -0.782027 -1.225196 -0.200564   \n",
       "227818  2.045329 -0.127557 -1.084864  0.432121 -0.219836 -1.233060  0.147543   \n",
       "227819 -0.861465 -0.149128  1.523218 -1.598932 -1.904715  0.400161  1.334304   \n",
       "\n",
       "              V8        V9       V10  ...       V21       V22       V23  \\\n",
       "227816 -0.407590 -0.162631  0.646272  ... -0.162889  0.373515  0.075393   \n",
       "227818 -0.297332  0.647602  0.090351  ... -0.291890 -0.759998  0.342628   \n",
       "227819 -0.341400 -1.277563 -0.270898  ...  0.402892  1.210480 -0.211676   \n",
       "\n",
       "             V24       V25       V26       V27       V28  scaled_amount  \\\n",
       "227816  0.496001  0.245824 -0.085769  0.022953 -0.049552      -0.162027   \n",
       "227818  0.027266 -0.326637  0.196891 -0.076917 -0.059947      -0.182432   \n",
       "227819  0.063405  0.635125  0.132667  0.068426 -0.022504       4.250135   \n",
       "\n",
       "        scaled_time  \n",
       "227816     0.989954  \n",
       "227818     0.989954  \n",
       "227819     0.989968  \n",
       "\n",
       "[3 rows x 30 columns]"
      ]
     },
     "metadata": {},
     "output_type": "display_data"
    },
    {
     "data": {
      "text/html": [
       "<div>\n",
       "<style scoped>\n",
       "    .dataframe tbody tr th:only-of-type {\n",
       "        vertical-align: middle;\n",
       "    }\n",
       "\n",
       "    .dataframe tbody tr th {\n",
       "        vertical-align: top;\n",
       "    }\n",
       "\n",
       "    .dataframe thead th {\n",
       "        text-align: right;\n",
       "    }\n",
       "</style>\n",
       "<table border=\"1\" class=\"dataframe\">\n",
       "  <thead>\n",
       "    <tr style=\"text-align: right;\">\n",
       "      <th></th>\n",
       "      <th>V1</th>\n",
       "      <th>V2</th>\n",
       "      <th>V3</th>\n",
       "      <th>V4</th>\n",
       "      <th>V5</th>\n",
       "      <th>V6</th>\n",
       "      <th>V7</th>\n",
       "      <th>V8</th>\n",
       "      <th>V9</th>\n",
       "      <th>V10</th>\n",
       "      <th>...</th>\n",
       "      <th>V21</th>\n",
       "      <th>V22</th>\n",
       "      <th>V23</th>\n",
       "      <th>V24</th>\n",
       "      <th>V25</th>\n",
       "      <th>V26</th>\n",
       "      <th>V27</th>\n",
       "      <th>V28</th>\n",
       "      <th>scaled_amount</th>\n",
       "      <th>scaled_time</th>\n",
       "    </tr>\n",
       "  </thead>\n",
       "  <tbody>\n",
       "    <tr>\n",
       "      <th>284804</th>\n",
       "      <td>1.919565</td>\n",
       "      <td>-0.301254</td>\n",
       "      <td>-3.249640</td>\n",
       "      <td>-0.557828</td>\n",
       "      <td>2.630515</td>\n",
       "      <td>3.031260</td>\n",
       "      <td>-0.296827</td>\n",
       "      <td>0.708417</td>\n",
       "      <td>0.432454</td>\n",
       "      <td>-0.484782</td>\n",
       "      <td>...</td>\n",
       "      <td>0.232045</td>\n",
       "      <td>0.578229</td>\n",
       "      <td>-0.037501</td>\n",
       "      <td>0.640134</td>\n",
       "      <td>0.265745</td>\n",
       "      <td>-0.087371</td>\n",
       "      <td>0.004455</td>\n",
       "      <td>-0.026561</td>\n",
       "      <td>0.599865</td>\n",
       "      <td>1.369042</td>\n",
       "    </tr>\n",
       "    <tr>\n",
       "      <th>284805</th>\n",
       "      <td>-0.240440</td>\n",
       "      <td>0.530483</td>\n",
       "      <td>0.702510</td>\n",
       "      <td>0.689799</td>\n",
       "      <td>-0.377961</td>\n",
       "      <td>0.623708</td>\n",
       "      <td>-0.686180</td>\n",
       "      <td>0.679145</td>\n",
       "      <td>0.392087</td>\n",
       "      <td>-0.399126</td>\n",
       "      <td>...</td>\n",
       "      <td>0.265245</td>\n",
       "      <td>0.800049</td>\n",
       "      <td>-0.163298</td>\n",
       "      <td>0.123205</td>\n",
       "      <td>-0.569159</td>\n",
       "      <td>0.546668</td>\n",
       "      <td>0.108821</td>\n",
       "      <td>0.104533</td>\n",
       "      <td>-0.182297</td>\n",
       "      <td>1.369042</td>\n",
       "    </tr>\n",
       "    <tr>\n",
       "      <th>284806</th>\n",
       "      <td>-0.533413</td>\n",
       "      <td>-0.189733</td>\n",
       "      <td>0.703337</td>\n",
       "      <td>-0.506271</td>\n",
       "      <td>-0.012546</td>\n",
       "      <td>-0.649617</td>\n",
       "      <td>1.577006</td>\n",
       "      <td>-0.414650</td>\n",
       "      <td>0.486180</td>\n",
       "      <td>-0.915427</td>\n",
       "      <td>...</td>\n",
       "      <td>0.261057</td>\n",
       "      <td>0.643078</td>\n",
       "      <td>0.376777</td>\n",
       "      <td>0.008797</td>\n",
       "      <td>-0.473649</td>\n",
       "      <td>-0.818267</td>\n",
       "      <td>-0.002415</td>\n",
       "      <td>0.013649</td>\n",
       "      <td>2.615000</td>\n",
       "      <td>1.369097</td>\n",
       "    </tr>\n",
       "  </tbody>\n",
       "</table>\n",
       "<p>3 rows × 30 columns</p>\n",
       "</div>"
      ],
      "text/plain": [
       "              V1        V2        V3        V4        V5        V6        V7  \\\n",
       "284804  1.919565 -0.301254 -3.249640 -0.557828  2.630515  3.031260 -0.296827   \n",
       "284805 -0.240440  0.530483  0.702510  0.689799 -0.377961  0.623708 -0.686180   \n",
       "284806 -0.533413 -0.189733  0.703337 -0.506271 -0.012546 -0.649617  1.577006   \n",
       "\n",
       "              V8        V9       V10  ...       V21       V22       V23  \\\n",
       "284804  0.708417  0.432454 -0.484782  ...  0.232045  0.578229 -0.037501   \n",
       "284805  0.679145  0.392087 -0.399126  ...  0.265245  0.800049 -0.163298   \n",
       "284806 -0.414650  0.486180 -0.915427  ...  0.261057  0.643078  0.376777   \n",
       "\n",
       "             V24       V25       V26       V27       V28  scaled_amount  \\\n",
       "284804  0.640134  0.265745 -0.087371  0.004455 -0.026561       0.599865   \n",
       "284805  0.123205 -0.569159  0.546668  0.108821  0.104533      -0.182297   \n",
       "284806  0.008797 -0.473649 -0.818267 -0.002415  0.013649       2.615000   \n",
       "\n",
       "        scaled_time  \n",
       "284804     1.369042  \n",
       "284805     1.369042  \n",
       "284806     1.369097  \n",
       "\n",
       "[3 rows x 30 columns]"
      ]
     },
     "metadata": {},
     "output_type": "display_data"
    }
   ],
   "source": [
    "# Let's scale the time and amout! We use Robust scaler, he is more robust with the presence of outliers\n",
    "\n",
    "scaler= RobustScaler()\n",
    "\n",
    "X_rescaled = scaler.fit_transform(X_original_train[['Amount', 'Time']])\n",
    "X_rescaled = pd.DataFrame(X_rescaled, columns=['scaled_amount', 'scaled_time'], index=X_original_train.index)\n",
    "X_original_train = pd.concat([X_original_train, X_rescaled], axis=1)\n",
    "X_original_train.drop(columns=['Amount', 'Time'], inplace= True)\n",
    "display(X_original_train.tail(3))\n",
    "\n",
    "# Ok now for the test part! We only transform her, no data leak!\n",
    "\n",
    "X_rescaled_t = scaler.transform(X_original_test[['Amount', 'Time']])\n",
    "X_rescaled_t = pd.DataFrame(X_rescaled_t, columns=['scaled_amount', 'scaled_time'], index=X_original_test.index)\n",
    "X_original_test = pd.concat([X_original_test, X_rescaled_t], axis=1)\n",
    "X_original_test.drop(columns=['Amount', 'Time'], inplace= True)\n",
    "display(X_original_test.tail(3))"
   ]
  },
  {
   "cell_type": "markdown",
   "id": "ffd8f2d1",
   "metadata": {},
   "source": [
    "Now that we have split, we can play on the train, we will start by evaluating the feature importance.\n",
    "We will start with the ROC AUC. The advantage of the ROC AUC is that our class imbalance is not a problem with this metric.\n",
    "\n",
    "*What is it?*\n",
    "The Univariate AUC analysis measures the capacity of target class separation of a feature.\n",
    "The analysis tests multiples thresholds (a threshold is a value of our feature in general) on the feature and ask the question: \n",
    "\"Will my target will be 1 if the feature is above this thershold?\"\n",
    "Like a simple classifier, it then give us True Positive Rates (TPR) and False Positive Rates (FPR) and then it plots the TPR against the FPR.\n",
    "\n",
    "*How do we read it?*\n",
    "We have a curve and we take the Area Under the Curve. If this area is close to 1, the feature is a great separator.\n",
    "If the area is 0.5, it's pure random.\n",
    "If the area is lower than 0.5, the more it goes to 0 the more we should do the opposite of the feature to make a good separation."
   ]
  },
  {
   "cell_type": "code",
   "execution_count": 33,
   "id": "27d5426b",
   "metadata": {},
   "outputs": [
    {
     "data": {
      "image/png": "[encoded data removed]",
      "text/plain": [
       "<Figure size 640x480 with 1 Axes>"
      ]
     },
     "metadata": {},
     "output_type": "display_data"
    }
   ],
   "source": [
    "# Exemple avec la feature 'V14' et les labels 'y'\n",
    "fpr, tpr, thresholds = roc_curve(y_original_train, X_original_train['V11'])\n",
    "roc_auc = auc(fpr, tpr)\n",
    "\n",
    "# Tracer la ROC curve\n",
    "plt.figure()\n",
    "plt.plot(fpr, tpr, color='darkorange', lw=2, label='AUC = %0.2f' % roc_auc)\n",
    "plt.plot([0, 1], [0, 1], color='navy', lw=2, linestyle='--')\n",
    "plt.xlim([0.0, 1.0])\n",
    "plt.ylim([0.0, 1.05])\n",
    "plt.xlabel('False Positive Rate')\n",
    "plt.ylabel('True Positive Rate')\n",
    "plt.title('Receiver Operating Characteristic (AUC) - Univariate')\n",
    "plt.legend(loc='lower right')\n",
    "plt.show()"
   ]
  },
  {
   "cell_type": "code",
   "execution_count": 34,
   "id": "2a7e96e2",
   "metadata": {},
   "outputs": [
    {
     "data": {
      "text/html": [
       "<div>\n",
       "<style scoped>\n",
       "    .dataframe tbody tr th:only-of-type {\n",
       "        vertical-align: middle;\n",
       "    }\n",
       "\n",
       "    .dataframe tbody tr th {\n",
       "        vertical-align: top;\n",
       "    }\n",
       "\n",
       "    .dataframe thead th {\n",
       "        text-align: right;\n",
       "    }\n",
       "</style>\n",
       "<table border=\"1\" class=\"dataframe\">\n",
       "  <thead>\n",
       "    <tr style=\"text-align: right;\">\n",
       "      <th></th>\n",
       "      <th>Cols</th>\n",
       "      <th>ROC_AUC</th>\n",
       "    </tr>\n",
       "  </thead>\n",
       "  <tbody>\n",
       "    <tr>\n",
       "      <th>3</th>\n",
       "      <td>V4</td>\n",
       "      <td>0.937179</td>\n",
       "    </tr>\n",
       "    <tr>\n",
       "      <th>10</th>\n",
       "      <td>V11</td>\n",
       "      <td>0.916463</td>\n",
       "    </tr>\n",
       "    <tr>\n",
       "      <th>1</th>\n",
       "      <td>V2</td>\n",
       "      <td>0.859818</td>\n",
       "    </tr>\n",
       "    <tr>\n",
       "      <th>20</th>\n",
       "      <td>V21</td>\n",
       "      <td>0.739196</td>\n",
       "    </tr>\n",
       "    <tr>\n",
       "      <th>26</th>\n",
       "      <td>V27</td>\n",
       "      <td>0.707871</td>\n",
       "    </tr>\n",
       "    <tr>\n",
       "      <th>18</th>\n",
       "      <td>V19</td>\n",
       "      <td>0.671690</td>\n",
       "    </tr>\n",
       "    <tr>\n",
       "      <th>7</th>\n",
       "      <td>V8</td>\n",
       "      <td>0.665755</td>\n",
       "    </tr>\n",
       "    <tr>\n",
       "      <th>19</th>\n",
       "      <td>V20</td>\n",
       "      <td>0.648557</td>\n",
       "    </tr>\n",
       "    <tr>\n",
       "      <th>27</th>\n",
       "      <td>V28</td>\n",
       "      <td>0.632775</td>\n",
       "    </tr>\n",
       "    <tr>\n",
       "      <th>25</th>\n",
       "      <td>V26</td>\n",
       "      <td>0.529638</td>\n",
       "    </tr>\n",
       "    <tr>\n",
       "      <th>21</th>\n",
       "      <td>V22</td>\n",
       "      <td>0.529102</td>\n",
       "    </tr>\n",
       "    <tr>\n",
       "      <th>24</th>\n",
       "      <td>V25</td>\n",
       "      <td>0.519448</td>\n",
       "    </tr>\n",
       "    <tr>\n",
       "      <th>12</th>\n",
       "      <td>V13</td>\n",
       "      <td>0.494272</td>\n",
       "    </tr>\n",
       "    <tr>\n",
       "      <th>14</th>\n",
       "      <td>V15</td>\n",
       "      <td>0.469348</td>\n",
       "    </tr>\n",
       "    <tr>\n",
       "      <th>22</th>\n",
       "      <td>V23</td>\n",
       "      <td>0.455215</td>\n",
       "    </tr>\n",
       "    <tr>\n",
       "      <th>28</th>\n",
       "      <td>scaled_amount</td>\n",
       "      <td>0.454028</td>\n",
       "    </tr>\n",
       "    <tr>\n",
       "      <th>23</th>\n",
       "      <td>V24</td>\n",
       "      <td>0.447435</td>\n",
       "    </tr>\n",
       "    <tr>\n",
       "      <th>29</th>\n",
       "      <td>scaled_time</td>\n",
       "      <td>0.411422</td>\n",
       "    </tr>\n",
       "    <tr>\n",
       "      <th>4</th>\n",
       "      <td>V5</td>\n",
       "      <td>0.263978</td>\n",
       "    </tr>\n",
       "    <tr>\n",
       "      <th>17</th>\n",
       "      <td>V18</td>\n",
       "      <td>0.238374</td>\n",
       "    </tr>\n",
       "    <tr>\n",
       "      <th>5</th>\n",
       "      <td>V6</td>\n",
       "      <td>0.236285</td>\n",
       "    </tr>\n",
       "    <tr>\n",
       "      <th>0</th>\n",
       "      <td>V1</td>\n",
       "      <td>0.193826</td>\n",
       "    </tr>\n",
       "    <tr>\n",
       "      <th>16</th>\n",
       "      <td>V17</td>\n",
       "      <td>0.189051</td>\n",
       "    </tr>\n",
       "    <tr>\n",
       "      <th>6</th>\n",
       "      <td>V7</td>\n",
       "      <td>0.163797</td>\n",
       "    </tr>\n",
       "    <tr>\n",
       "      <th>8</th>\n",
       "      <td>V9</td>\n",
       "      <td>0.160140</td>\n",
       "    </tr>\n",
       "    <tr>\n",
       "      <th>15</th>\n",
       "      <td>V16</td>\n",
       "      <td>0.145889</td>\n",
       "    </tr>\n",
       "    <tr>\n",
       "      <th>2</th>\n",
       "      <td>V3</td>\n",
       "      <td>0.087024</td>\n",
       "    </tr>\n",
       "    <tr>\n",
       "      <th>9</th>\n",
       "      <td>V10</td>\n",
       "      <td>0.085664</td>\n",
       "    </tr>\n",
       "    <tr>\n",
       "      <th>11</th>\n",
       "      <td>V12</td>\n",
       "      <td>0.060225</td>\n",
       "    </tr>\n",
       "    <tr>\n",
       "      <th>13</th>\n",
       "      <td>V14</td>\n",
       "      <td>0.051775</td>\n",
       "    </tr>\n",
       "  </tbody>\n",
       "</table>\n",
       "</div>"
      ],
      "text/plain": [
       "             Cols   ROC_AUC\n",
       "3              V4  0.937179\n",
       "10            V11  0.916463\n",
       "1              V2  0.859818\n",
       "20            V21  0.739196\n",
       "26            V27  0.707871\n",
       "18            V19  0.671690\n",
       "7              V8  0.665755\n",
       "19            V20  0.648557\n",
       "27            V28  0.632775\n",
       "25            V26  0.529638\n",
       "21            V22  0.529102\n",
       "24            V25  0.519448\n",
       "12            V13  0.494272\n",
       "14            V15  0.469348\n",
       "22            V23  0.455215\n",
       "28  scaled_amount  0.454028\n",
       "23            V24  0.447435\n",
       "29    scaled_time  0.411422\n",
       "4              V5  0.263978\n",
       "17            V18  0.238374\n",
       "5              V6  0.236285\n",
       "0              V1  0.193826\n",
       "16            V17  0.189051\n",
       "6              V7  0.163797\n",
       "8              V9  0.160140\n",
       "15            V16  0.145889\n",
       "2              V3  0.087024\n",
       "9             V10  0.085664\n",
       "11            V12  0.060225\n",
       "13            V14  0.051775"
      ]
     },
     "metadata": {},
     "output_type": "display_data"
    }
   ],
   "source": [
    "df_roc_auc = pd.DataFrame()\n",
    "i=0\n",
    "for col in X_original_train.columns:\n",
    "    fpr, tpr, thresholds = roc_curve(y_original_train, X_original_train[col])\n",
    "    roc_auc = auc(fpr, tpr)\n",
    "    df_roc_auc.loc[i, 'Cols'] = col\n",
    "    df_roc_auc.loc[i, 'ROC_AUC'] = roc_auc\n",
    "    i+= 1\n",
    "display(df_roc_auc.sort_values('ROC_AUC', ascending= False))"
   ]
  },
  {
   "cell_type": "markdown",
   "id": "198ebac6",
   "metadata": {},
   "source": [
    "Now we'll try something else. The Pearson correlation. The problem with that is that we have a heavily imbalanced dataset.\n",
    "To avoid noise we'll have to balance this.\n",
    "\n",
    "*How?*\n",
    "Undersampling. We'll create a smaller df with all the frauds and the same number of non-fraud. It will help us to have a clearer view of the correlation\n",
    "BUT!\n",
    "Doing that we'll have a huge bias, the random sample of non fraud used may be extremely specific and give us misleading correlations.\n",
    "\n",
    "*What do we do?*\n",
    "First we have the ROC AUC. If we have a huge problem we'll see it.\n",
    "Secondly won't use only the undersampler created. We'll create 10-15 different undersampled datasets (because of the dataset size) and a correlation matrix for each.\n",
    "Then, we'll calculate the average correlation matrix using all the previous matrixes."
   ]
  },
  {
   "cell_type": "code",
   "execution_count": 35,
   "id": "1c7b589a",
   "metadata": {},
   "outputs": [],
   "source": [
    "df_train = pd.concat((X_original_train,y_original_train), axis = 1)\n",
    "\n",
    "frauds = df_train[df_train['Class'] == 1]\n",
    "non_frauds = df_train[df_train['Class'] == 0]\n",
    "\n",
    "# Let's go with 10 samples\n",
    "num_samples = 10\n",
    "\n",
    "# We'll stock our cute little dataframes here\n",
    "undersampled_datasets = []\n",
    "\n",
    "for i in range(num_samples):\n",
    "    # Non fraud collection\n",
    "    non_frauds_sample = non_frauds.sample(n=len(frauds), random_state=i)\n",
    "    \n",
    "    # Balanced dataset creation\n",
    "    undersampled_df = pd.concat([frauds, non_frauds_sample])\n",
    "    \n",
    "    # Adding the ne dataset to the list\n",
    "    undersampled_datasets.append(undersampled_df)"
   ]
  },
  {
   "cell_type": "code",
   "execution_count": 36,
   "id": "371f47fc",
   "metadata": {},
   "outputs": [
    {
     "data": {
      "image/png": "[encoded data removed]",
      "text/plain": [
       "<Figure size 640x480 with 1 Axes>"
      ]
     },
     "metadata": {},
     "output_type": "display_data"
    }
   ],
   "source": [
    "# Let's check our repartition on the first dataset of the list\n",
    "ax =sns.barplot(data=undersampled_datasets[0]['Class'].value_counts().reset_index(), x='Class', y='count', hue= 'Class')\n",
    "ax.bar_label(ax.containers[0])\n",
    "ax.bar_label(ax.containers[1])\n",
    "\n",
    "new_labels = ['Non Fraud', 'Fraud']\n",
    "handles, labels = ax.get_legend_handles_labels()\n",
    "ax.legend(handles=handles, labels=new_labels, title='Class')\n",
    "plt.show()"
   ]
  },
  {
   "cell_type": "code",
   "execution_count": 37,
   "id": "0b32963b",
   "metadata": {},
   "outputs": [
    {
     "data": {
      "image/png": "[encoded data removed]",
      "text/plain": [
       "<Figure size 640x480 with 2 Axes>"
      ]
     },
     "metadata": {},
     "output_type": "display_data"
    }
   ],
   "source": [
    "# Let's look at a heatmap!\n",
    "\n",
    "sns.heatmap(data= undersampled_datasets[0].corr(), cmap = \"seismic\", center = 0)\n",
    "plt.show()"
   ]
  },
  {
   "cell_type": "markdown",
   "id": "b20f377c",
   "metadata": {},
   "source": [
    "Nice carpet. Now we'll take the line of the correlation matrix corresponding to the class"
   ]
  },
  {
   "cell_type": "code",
   "execution_count": 38,
   "id": "65d2ba6d",
   "metadata": {},
   "outputs": [
    {
     "data": {
      "text/plain": [
       "V4               0.705245\n",
       "V11              0.684916\n",
       "V2               0.493267\n",
       "V19              0.316927\n",
       "V20              0.190388\n",
       "V27              0.153677\n",
       "scaled_amount    0.123576\n",
       "V8               0.121039\n",
       "V21              0.116134\n",
       "V28              0.065062\n",
       "V26              0.037027\n",
       "V22              0.036537\n",
       "V13              0.025705\n",
       "V25              0.021121\n",
       "V23             -0.053474\n",
       "V15             -0.076441\n",
       "V24             -0.119025\n",
       "scaled_time     -0.127443\n",
       "V5              -0.394747\n",
       "V6              -0.407261\n",
       "V1              -0.422762\n",
       "V7              -0.483734\n",
       "V18             -0.500432\n",
       "V3              -0.563072\n",
       "V9              -0.564378\n",
       "V17             -0.580237\n",
       "V16             -0.613588\n",
       "V10             -0.635008\n",
       "V12             -0.687851\n",
       "V14             -0.744368\n",
       "Name: Class, dtype: float64"
      ]
     },
     "metadata": {},
     "output_type": "display_data"
    }
   ],
   "source": [
    "corr_matrix_0 = undersampled_datasets[0].corr()['Class']\n",
    "display(corr_matrix_0.sort_values(ascending = False).drop('Class'))"
   ]
  },
  {
   "cell_type": "markdown",
   "id": "b6abaf59",
   "metadata": {},
   "source": [
    "It really look like the order of the ROC AUC Score, we're not out of the blue!"
   ]
  },
  {
   "cell_type": "code",
   "execution_count": 39,
   "id": "84121043",
   "metadata": {},
   "outputs": [
    {
     "data": {
      "text/plain": [
       "V4               0.706541\n",
       "V11              0.685535\n",
       "V2               0.504746\n",
       "V19              0.288011\n",
       "V20              0.181225\n",
       "V27              0.139401\n",
       "V8               0.127758\n",
       "V21              0.113786\n",
       "scaled_amount    0.079234\n",
       "V28              0.063925\n",
       "V22              0.055578\n",
       "V26              0.031233\n",
       "V25              0.014959\n",
       "V13             -0.011102\n",
       "V23             -0.052925\n",
       "V15             -0.058597\n",
       "V24             -0.078000\n",
       "scaled_time     -0.161744\n",
       "V5              -0.403519\n",
       "V6              -0.424228\n",
       "V1              -0.438829\n",
       "V7              -0.487644\n",
       "V18             -0.490961\n",
       "V9              -0.551572\n",
       "V3              -0.565870\n",
       "V17             -0.577226\n",
       "V16             -0.612592\n",
       "V10             -0.639008\n",
       "V12             -0.688263\n",
       "V14             -0.745995\n",
       "dtype: float64"
      ]
     },
     "metadata": {},
     "output_type": "display_data"
    }
   ],
   "source": [
    "# Now we'll make the average correlation matrix\n",
    "\n",
    "df_matrix= pd.DataFrame()\n",
    "for mini_df in undersampled_datasets:\n",
    "    matrix =  mini_df.corr()['Class'].drop('Class')\n",
    "    df_matrix = pd.concat((df_matrix,matrix), axis = 1)\n",
    "\n",
    "df_matrix_mean = df_matrix.T.mean()\n",
    "display(df_matrix_mean.sort_values(ascending=False))"
   ]
  },
  {
   "cell_type": "markdown",
   "id": "440e72ec",
   "metadata": {},
   "source": [
    "Ok, Everything seems to be coherent here."
   ]
  },
  {
   "cell_type": "markdown",
   "id": "6b946dbd",
   "metadata": {},
   "source": [
    "## Machine Learning"
   ]
  },
  {
   "cell_type": "markdown",
   "id": "6f3aae73",
   "metadata": {},
   "source": [
    "We'll use XGBoost as a model, and his argument scale_pose_weight to adapt to the imbalaced situation.\n",
    "So i have to calculate it by making the division of the proportions:"
   ]
  },
  {
   "cell_type": "code",
   "execution_count": 51,
   "id": "7402381c",
   "metadata": {},
   "outputs": [
    {
     "name": "stdout",
     "output_type": "stream",
     "text": [
      "567.8721804511279\n"
     ]
    }
   ],
   "source": [
    "count_neg = y_original_train.value_counts(1)[0]\n",
    "count_pos = y_original_train.value_counts(1)[1]\n",
    "spw =  count_neg/count_pos\n",
    "print(spw)"
   ]
  },
  {
   "cell_type": "markdown",
   "id": "c3c840a1",
   "metadata": {},
   "source": [
    "Now for the choice of the parameters we'll try to use the optuna library!\n",
    "So we'll work this way:\n",
    "We'll make a cross validation with 5 splits on the train set.\n",
    " -Each split will be time series splits (to preserve the chronology) on our train set\n",
    " -We'll scale the split\n",
    " -We'll fit our model\n",
    " -We'll calculate the roc auc score\n",
    "And we let optuna get the best params!"
   ]
  },
  {
   "cell_type": "code",
   "execution_count": 59,
   "id": "b765b78c",
   "metadata": {},
   "outputs": [],
   "source": [
    "TSC_CV = TimeSeriesSplit(n_splits=5)\n",
    "#Necessary Optuna Metric\n",
    "auc_scorer = make_scorer(roc_auc_score, response_method='predict_proba')"
   ]
  },
  {
   "cell_type": "code",
   "execution_count": null,
   "id": "a8457f76",
   "metadata": {},
   "outputs": [
    {
     "name": "stderr",
     "output_type": "stream",
     "text": [
      "[I 2025-10-09 11:25:28,159] A new study created in memory with name: no-name-b9afb37a-09cb-41db-9266-c29c7ccc5a59\n"
     ]
    },
    {
     "data": {
      "application/vnd.jupyter.widget-view+json": {
       "model_id": "69aa5b34e8aa4374a8bc2c13e11869c4",
       "version_major": 2,
       "version_minor": 0
      },
      "text/plain": [
       "  0%|          | 0/1 [00:00<?, ?it/s]"
      ]
     },
     "metadata": {},
     "output_type": "display_data"
    },
    {
     "name": "stderr",
     "output_type": "stream",
     "text": [
      "C:\\Users\\nicol\\AppData\\Local\\Temp\\ipykernel_5284\\2103036332.py:9: FutureWarning: suggest_loguniform has been deprecated in v3.0.0. This feature will be removed in v6.0.0. See https://github.com/optuna/optuna/releases/tag/v3.0.0. Use suggest_float(..., log=True) instead.\n",
      "  'learning_rate': trial.suggest_loguniform('learning_rate', 1e-3, 0.1),\n",
      "C:\\Users\\nicol\\AppData\\Local\\Temp\\ipykernel_5284\\2103036332.py:12: FutureWarning: suggest_loguniform has been deprecated in v3.0.0. This feature will be removed in v6.0.0. See https://github.com/optuna/optuna/releases/tag/v3.0.0. Use suggest_float(..., log=True) instead.\n",
      "  'gamma': trial.suggest_loguniform('gamma', 1e-3, 1.0),\n",
      "C:\\Users\\nicol\\AppData\\Local\\Temp\\ipykernel_5284\\2103036332.py:13: FutureWarning: suggest_loguniform has been deprecated in v3.0.0. This feature will be removed in v6.0.0. See https://github.com/optuna/optuna/releases/tag/v3.0.0. Use suggest_float(..., log=True) instead.\n",
      "  'min_child_weight': trial.suggest_loguniform('min_child_weight', 1e-1, 10.0),\n",
      "C:\\Users\\nicol\\AppData\\Roaming\\Python\\Python311\\site-packages\\xgboost\\training.py:183: UserWarning: [11:25:28] WARNING: C:\\actions-runner\\_work\\xgboost\\xgboost\\src\\learner.cc:738: \n",
      "Parameters: { \"use_label_encoder\" } are not used.\n",
      "\n",
      "  bst.update(dtrain, iteration=i, fobj=obj)\n",
      "C:\\Users\\nicol\\AppData\\Roaming\\Python\\Python311\\site-packages\\xgboost\\training.py:183: UserWarning: [11:25:30] WARNING: C:\\actions-runner\\_work\\xgboost\\xgboost\\src\\learner.cc:738: \n",
      "Parameters: { \"use_label_encoder\" } are not used.\n",
      "\n",
      "  bst.update(dtrain, iteration=i, fobj=obj)\n",
      "C:\\Users\\nicol\\AppData\\Roaming\\Python\\Python311\\site-packages\\xgboost\\training.py:183: UserWarning: [11:25:33] WARNING: C:\\actions-runner\\_work\\xgboost\\xgboost\\src\\learner.cc:738: \n",
      "Parameters: { \"use_label_encoder\" } are not used.\n",
      "\n",
      "  bst.update(dtrain, iteration=i, fobj=obj)\n",
      "C:\\Users\\nicol\\AppData\\Roaming\\Python\\Python311\\site-packages\\xgboost\\training.py:183: UserWarning: [11:25:38] WARNING: C:\\actions-runner\\_work\\xgboost\\xgboost\\src\\learner.cc:738: \n",
      "Parameters: { \"use_label_encoder\" } are not used.\n",
      "\n",
      "  bst.update(dtrain, iteration=i, fobj=obj)\n",
      "C:\\Users\\nicol\\AppData\\Roaming\\Python\\Python311\\site-packages\\xgboost\\training.py:183: UserWarning: [11:25:44] WARNING: C:\\actions-runner\\_work\\xgboost\\xgboost\\src\\learner.cc:738: \n",
      "Parameters: { \"use_label_encoder\" } are not used.\n",
      "\n",
      "  bst.update(dtrain, iteration=i, fobj=obj)\n"
     ]
    },
    {
     "name": "stdout",
     "output_type": "stream",
     "text": [
      "[I 2025-10-09 11:25:51,487] Trial 0 finished with value: 0.9745078684216445 and parameters: {'n_estimators': 595, 'max_depth': 7, 'learning_rate': 0.06365583488977025, 'gamma': 0.03443669613046757, 'min_child_weight': 1.0396470483510232, 'subsample': 0.7204551348645144, 'colsample_bytree': 0.6391391500043857}. Best is trial 0 with value: 0.9745078684216445.\n"
     ]
    }
   ],
   "source": [
    "def objective_with_pipeline(trial, X, y, cv_splitter, sp_weight, metric_scorer):\n",
    "    \"\"\"Fonction objectif Optuna avec Pipeline : maximise l'AUC-ROC via TimeSeriesSplit.\"\"\"\n",
    "\n",
    "    # 2. Hyperparameters search\n",
    "    param = {\n",
    "        # Tree construction\n",
    "        'n_estimators': trial.suggest_int('n_estimators', 300, 1000),\n",
    "        'max_depth': trial.suggest_int('max_depth', 4, 9),\n",
    "        'learning_rate': trial.suggest_loguniform('learning_rate', 1e-3, 0.1),\n",
    "        \n",
    "        # Overfitting gestion\n",
    "        'gamma': trial.suggest_loguniform('gamma', 1e-3, 1.0),\n",
    "        'min_child_weight': trial.suggest_loguniform('min_child_weight', 1e-1, 10.0),\n",
    "        \n",
    "        # Sous-échantillonnage (variance)\n",
    "        'subsample': trial.suggest_float('subsample', 0.6, 1.0),\n",
    "        'colsample_bytree': trial.suggest_float('colsample_bytree', 0.6, 1.0),\n",
    "        \n",
    "        # Constantes\n",
    "        'objective': 'binary:logistic',\n",
    "        'random_state': 42,\n",
    "        'scale_pos_weight': sp_weight # Of course\n",
    "    }\n",
    "\n",
    "    # 3. Model and pipelinee\n",
    "    xgb_model = XGBClassifier(\n",
    "        **param,\n",
    "        use_label_encoder=False,\n",
    "        eval_metric='logloss'\n",
    "    )\n",
    "\n",
    "    # Le Pipeline garantit que le RobustScaler est FIT sur chaque pli d'entraînement\n",
    "    model_pipeline = Pipeline([\n",
    "        ('scaler', RobustScaler()),\n",
    "        ('xgb', xgb_model)\n",
    "    ])\n",
    "\n",
    "    # 4. Évaluation par validation croisée temporelle\n",
    "    # On passe X_train_xgb (non mis à l'échelle) au pipeline\n",
    "    scores = cross_val_score(\n",
    "        model_pipeline,  \n",
    "        X,              \n",
    "        y,              \n",
    "        cv=cv_splitter,\n",
    "        scoring=metric_scorer,\n",
    "        n_jobs=-1\n",
    "    )\n",
    "\n",
    "    return scores.mean()\n",
    "\n",
    "\n",
    "# 5. Lancement de l'étude Optuna\n",
    "# ATTENTION : Décommentez pour lancer l'exécution. Ajustez n_trials (ex: 100 pour une bonne recherche).\n",
    "study = optuna.create_study(direction='maximize')\n",
    "study.optimize(\n",
    "    lambda trial: objective_with_pipeline(trial, X_original_train, y_original_train, TSC_CV, spw, auc_scorer),\n",
    "    n_trials=100, # Nombre d'essais\n",
    "    show_progress_bar=True\n",
    ")\n"
   ]
  },
  {
   "cell_type": "code",
   "execution_count": 61,
   "id": "978e5f65",
   "metadata": {},
   "outputs": [
    {
     "name": "stdout",
     "output_type": "stream",
     "text": [
      "AUC-ROC moyenne (Validation Croisée) : 0.9745\n",
      "Meilleurs hyperparamètres trouvés : {'n_estimators': 595, 'max_depth': 7, 'learning_rate': 0.06365583488977025, 'gamma': 0.03443669613046757, 'min_child_weight': 1.0396470483510232, 'subsample': 0.7204551348645144, 'colsample_bytree': 0.6391391500043857}\n"
     ]
    }
   ],
   "source": [
    "# # Récupération des meilleurs paramètres\n",
    "BEST_PARAMS = study.best_params\n",
    "print(f\"AUC-ROC moyenne (Validation Croisée) : {study.best_value:.4f}\")\n",
    "print(f\"Meilleurs hyperparamètres trouvés : {BEST_PARAMS}\")"
   ]
  }
 ],
 "metadata": {
  "kernelspec": {
   "display_name": "Python 3",
   "language": "python",
   "name": "python3"
  },
  "language_info": {
   "codemirror_mode": {
    "name": "ipython",
    "version": 3
   },
   "file_extension": ".py",
   "mimetype": "text/x-python",
   "name": "python",
   "nbconvert_exporter": "python",
   "pygments_lexer": "ipython3",
   "version": "3.11.0"
  }
 },
 "nbformat": 4,
 "nbformat_minor": 5
}
